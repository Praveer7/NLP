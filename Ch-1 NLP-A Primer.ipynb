{
 "cells": [
  {
   "cell_type": "markdown",
   "metadata": {},
   "source": [
    "# <font color=darkslateblue> Chapter-1 NLP: A PRIMER</font>"
   ]
  },
  {
   "cell_type": "markdown",
   "metadata": {},
   "source": [
    "**Natural Language Processing** \n",
    "\n",
    "It is an area of computer science that deals with methods to analyze, model, and understand human language."
   ]
  },
  {
   "cell_type": "markdown",
   "metadata": {},
   "source": [
    "### Flow of this Chapter"
   ]
  },
  {
   "cell_type": "markdown",
   "metadata": {},
   "source": [
    "- Overview of applications of NLP in real-world scenarios\n",
    "\n",
    "- Various tasks that form basis of building different NLP applications\n",
    "\n",
    "- Understanding of language from NLP perspective and why NLP is difficult\n",
    "\n",
    "- Overview of heuristics, ML & DL\n",
    "\n",
    "- Introduction to a few commonly used algorithms in NLP\n",
    "\n",
    "- Walkthrough of an NLP application\n",
    "\n",
    "- Overview of the rest of topics in this book"
   ]
  },
  {
   "cell_type": "markdown",
   "metadata": {},
   "source": [
    "### Organization of Chapters in terms of NLP tasks and applications"
   ]
  },
  {
   "cell_type": "markdown",
   "metadata": {},
   "source": [
    "1. **Core Tasks** (Chapters 3-7)\n",
    "\n",
    "\n",
    "- Text Classification\n",
    "- Information Extraction\n",
    "- Conversational Agent\n",
    "- Information Retrieval\n",
    "- Question Answering Systems"
   ]
  },
  {
   "cell_type": "markdown",
   "metadata": {},
   "source": [
    "2. **General Applications** (Chapters 4-7)\n",
    "\n",
    "\n",
    "\n",
    "- Spam Classification\n",
    "- Calendar Event Extraction\n",
    "- PersonalAssistants\n",
    "- Search Engines\n",
    "- Jeopardy !"
   ]
  },
  {
   "cell_type": "markdown",
   "metadata": {},
   "source": [
    "3. **Industry Specific** (Chapters 8-10)\n",
    "\n",
    "\n",
    "- Social Media Analysis\n",
    "- Retail Catalog Extraction\n",
    "- Health Records Analysis\n",
    "- Financial Analysis\n",
    "- Legal Entity Extraction"
   ]
  },
  {
   "cell_type": "markdown",
   "metadata": {},
   "source": [
    "# NLP in the Real World"
   ]
  },
  {
   "cell_type": "markdown",
   "metadata": {},
   "source": [
    "### Core Applications"
   ]
  },
  {
   "cell_type": "markdown",
   "metadata": {},
   "source": [
    "**E-Mail Applications** (Ch-4 & 5)\n",
    "\n",
    "- GMail, Outlook, etc.\n",
    "- provide features like spam, classification, priority inbox, calendar event extraction, auto complete etc.\n",
    "\n",
    "**Voice-based Assistants** (Ch-6)\n",
    "\n",
    "- Apple Siri, Google Assistant, Microsoft Cortana, Amazon Alexa\n",
    "- rely on a range of NLP techniques to interact with user, understand user commands and respond accordingly"
   ]
  },
  {
   "cell_type": "markdown",
   "metadata": {},
   "source": [
    "**Modern Search Engines** (Ch-7)\n",
    "\n",
    "\n",
    "- Google and Bing\n",
    "- use NLP heavily for various subtasks like query understanding, query expansion, question answering, information retrieval and ranking and grouping of the results\n",
    "\n",
    "\n",
    "**Machine Translation Services** (Ch-7)\n",
    "\n",
    "\n",
    "- Google Translate, Bing, Microsoft Translator and AMazon Translate\n",
    "- direct applications of NLP"
   ]
  },
  {
   "cell_type": "markdown",
   "metadata": {},
   "source": [
    "### Other Applications"
   ]
  },
  {
   "cell_type": "markdown",
   "metadata": {},
   "source": [
    "- Organizations analyze their **social media feeds** to understand voice of their customers (Ch-8)\n",
    "\n",
    "- NLP is widely used to solve use cases on **e-commerce platforms** (Amazon) like extracting relevant information from product descriptions, understanding user reviews, etc. (Ch-9)\n",
    "\n",
    "- To solve use cases in domains such as **healthcare, finance and law** (Ch-10)\n",
    "\n",
    "- Companies like Arria use NLP techniques to **automatically generate reports for various domains** (weather forecasting, financial services, etc.)\n",
    "\n",
    "- NLP forms backbone of **spelling- and grammar-correction tools** (Grammarly, spell check in Microsoft Word & Google Docs)\n",
    "\n",
    "- In popular quiz show: ***Jeopardy !***, **Watson AI** won the first prize. It was built using NLP techniques.\n",
    "\n",
    "- NLP is used in a range of **learning and assessment tools and technologies** (automated scoring in GRE, plagiarism detection like Turnitin, intelligent tutoring systems, language learning apps like Duolingo)\n",
    "\n",
    "- NLP is used to built **large knowledge bases** (Google Knowledge Graph)"
   ]
  },
  {
   "cell_type": "markdown",
   "metadata": {},
   "source": [
    "# <font color=orchid>NLP Tasks</font>"
   ]
  },
  {
   "cell_type": "markdown",
   "metadata": {},
   "source": [
    "Fundamental tasks that appear frequently across various NLP projects:\n",
    "\n",
    "1. **Language Modeling**\n",
    "\n",
    "\n",
    "- predicting what the next word in a sentence will be based on history of previous words\n",
    "- Goal -> to learn probability of a sequence of words appearing in a given language\n",
    "- Uses -> speech recognition, optical character recognition, handwriting recognition, machine translation & spelling correction\n",
    "\n",
    "\n",
    "\n",
    "2. **Text Classification**\n",
    "\n",
    "\n",
    "- task of bucketing the text into a known set of categories based on its content\n",
    "- most popular task in NLP\n",
    "- Uses -> email spam identification, machine translation & spelling correction"
   ]
  },
  {
   "cell_type": "markdown",
   "metadata": {},
   "source": [
    "3. **Information Extraction**\n",
    "\n",
    "\n",
    "- task of extracting relevant information from text\n",
    "- Uses -> calendar event extraction from emails, extracting names of people mentioned in a social media post, etc.\n",
    "\n",
    "\n",
    "4. **Information Retrieval**\n",
    "\n",
    "\n",
    "- task of finding documents relevant to a user query from a large collection, e.g: Google search"
   ]
  },
  {
   "cell_type": "markdown",
   "metadata": {},
   "source": [
    "5. **Conversational Agent**\n",
    "\n",
    "\n",
    "- task of building dialogue systems that can converse in human languages, e.g: Alexa, Siri, etc.\n",
    "\n",
    "\n",
    "6. **Text Summarization**\n",
    "\n",
    "\n",
    "- task of creating short summaries of longer documents while retaining core content and preserving overall meaning of text"
   ]
  },
  {
   "cell_type": "markdown",
   "metadata": {},
   "source": [
    "7. **Question Answering**\n",
    "\n",
    "\n",
    "- task of building a system that can automatically answer questions posed in natural language\n",
    "\n",
    "\n",
    "8. **Machine Translation**\n",
    "\n",
    "\n",
    "- task of converting a piece of text from one language to another, e.g: Google Translate\n",
    "\n",
    "\n",
    "\n",
    "9. **Topic Modeling**\n",
    "\n",
    "\n",
    "- task of uncovering the topical structure of a large collection of documents\n",
    "- a common text mining tool used in domains like literature, bioinformatics, etc."
   ]
  },
  {
   "cell_type": "markdown",
   "metadata": {},
   "source": [
    "# <font color=orchid>Language from NLP Perspective</font>"
   ]
  },
  {
   "cell_type": "markdown",
   "metadata": {},
   "source": []
  },
  {
   "cell_type": "markdown",
   "metadata": {},
   "source": []
  },
  {
   "cell_type": "markdown",
   "metadata": {},
   "source": []
  },
  {
   "cell_type": "markdown",
   "metadata": {},
   "source": []
  },
  {
   "cell_type": "markdown",
   "metadata": {},
   "source": []
  },
  {
   "cell_type": "markdown",
   "metadata": {},
   "source": []
  },
  {
   "cell_type": "markdown",
   "metadata": {},
   "source": []
  },
  {
   "cell_type": "markdown",
   "metadata": {},
   "source": []
  },
  {
   "cell_type": "markdown",
   "metadata": {},
   "source": []
  },
  {
   "cell_type": "markdown",
   "metadata": {},
   "source": []
  },
  {
   "cell_type": "markdown",
   "metadata": {},
   "source": []
  },
  {
   "cell_type": "markdown",
   "metadata": {},
   "source": []
  }
 ],
 "metadata": {
  "kernelspec": {
   "display_name": "Python 3",
   "language": "python",
   "name": "python3"
  },
  "language_info": {
   "codemirror_mode": {
    "name": "ipython",
    "version": 3
   },
   "file_extension": ".py",
   "mimetype": "text/x-python",
   "name": "python",
   "nbconvert_exporter": "python",
   "pygments_lexer": "ipython3",
   "version": "3.8.3"
  }
 },
 "nbformat": 4,
 "nbformat_minor": 4
}
