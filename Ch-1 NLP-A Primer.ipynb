{
 "cells": [
  {
   "cell_type": "markdown",
   "metadata": {},
   "source": [
    "# Chapter-1 NLP: A PRIMER"
   ]
  },
  {
   "cell_type": "markdown",
   "metadata": {},
   "source": [
    "**Natural Language Processing** \n",
    "\n",
    "It is an area of computer science that deals with methods to analyze, model, and understand human language."
   ]
  },
  {
   "cell_type": "markdown",
   "metadata": {},
   "source": [
    "### Flow of this Chapter"
   ]
  },
  {
   "cell_type": "markdown",
   "metadata": {},
   "source": [
    "- Overview of applications of NLP in real-world scenarios\n",
    "\n",
    "- Various tasks that form basis of building different NLP applications\n",
    "\n",
    "- Understanding of language from NLP perspective and why NLP is difficult\n",
    "\n",
    "- Overview of heuristics, ML & DL\n",
    "\n",
    "- Introduction to a few commonly used algorithms in NLP\n",
    "\n",
    "- Walkthrough of an NLP application\n",
    "\n",
    "- Overview of the rest of topics in this book"
   ]
  },
  {
   "cell_type": "markdown",
   "metadata": {},
   "source": [
    "### Organization of Chapters in terms of NLP tasks and applications"
   ]
  },
  {
   "cell_type": "markdown",
   "metadata": {},
   "source": [
    "1. **Core Tasks** (Chapters 3-7)\n",
    "\n",
    "\n",
    "- Text Classification\n",
    "- Information Extraction\n",
    "- Conversational Agent\n",
    "- Information Retrieval\n",
    "- Question Answering Systems"
   ]
  },
  {
   "cell_type": "markdown",
   "metadata": {},
   "source": [
    "2. **General Applications** (Chapters 4-7)\n",
    "\n",
    "\n",
    "\n",
    "- Spam Classification\n",
    "- Calendar Event Extraction\n",
    "- PersonalAssistants\n",
    "- Search Engines\n",
    "- Jeopardy !"
   ]
  },
  {
   "cell_type": "markdown",
   "metadata": {},
   "source": [
    "3. **Industry Specific** (Chapters 8-10)\n",
    "\n",
    "\n",
    "- Social Media Analysis\n",
    "- Retail Catalog Extraction\n",
    "- Health Records Analysis\n",
    "- Financial Analysis\n",
    "- Legal Entity Extraction"
   ]
  },
  {
   "cell_type": "markdown",
   "metadata": {},
   "source": [
    "# NLP in the Real World"
   ]
  },
  {
   "cell_type": "markdown",
   "metadata": {},
   "source": [
    "### Core Applications"
   ]
  },
  {
   "cell_type": "markdown",
   "metadata": {},
   "source": [
    "**E-Mail Applications** (Ch-4 & 5)\n",
    "\n",
    "- GMail, Outlook, etc.\n",
    "- provide features like spam, classification, priority inbox, calendar event extraction, auto complete etc.\n",
    "\n",
    "**Voice-based Assistants** (Ch-6)\n",
    "\n",
    "- Apple Siri, Google Assistant, Microsoft Cortana, Amazon Alexa\n",
    "- rely on a range of NLP techniques to interact with user, understand user commands and respond accordingly"
   ]
  },
  {
   "cell_type": "markdown",
   "metadata": {},
   "source": [
    "**Modern Search Engines** (Ch-7)\n",
    "\n",
    "\n",
    "- Google and Bing\n",
    "- use NLP heavily for various subtasks like query understanding, query expansion, question answering, information retrieval and ranking and grouping of the results\n",
    "\n",
    "\n",
    "**Machine Translation Services** (Ch-7)\n",
    "\n",
    "\n",
    "- Google Translate, Bing, Microsoft Translator and AMazon Translate\n",
    "- direct applications of NLP"
   ]
  },
  {
   "cell_type": "markdown",
   "metadata": {},
   "source": [
    "### Other Applications"
   ]
  },
  {
   "cell_type": "markdown",
   "metadata": {},
   "source": [
    "- Organizations analyze their **social media feeds** to understand voice of their customers (Ch-8)\n",
    "\n",
    "- NLP is widely used to solve use cases on **e-commerce platforms** (Amazon) like extracting relevant information from product descriptions, understanding user reviews, etc. (Ch-9)\n",
    "\n",
    "- To solve use cases in domains such as **healthcare, finance and law** (Ch-10)\n",
    "\n",
    "- Companies like Arria use NLP techniques to **automatically generate reports for various domains** (weather forecasting, financial services, etc.)\n",
    "\n",
    "- NLP forms backbone of **spelling- and grammar-correction tools** (Grammarly, spell check in Microsoft Word & Google Docs)\n",
    "\n",
    "- In popular quiz show: ***Jeopardy !***, **Watson AI** won the first prize. It was built using NLP techniques.\n",
    "\n",
    "- NLP is used in a range of **learning and assessment tools and technologies** (automated scoring in GRE, plagiarism detection like Turnitin, intelligent tutoring systems, language learning apps like Duolingo)\n",
    "\n",
    "- NLP is used to built **large knowledge bases** (Google Knowledge Graph)"
   ]
  },
  {
   "cell_type": "markdown",
   "metadata": {},
   "source": [
    "# NLP Tasks"
   ]
  },
  {
   "cell_type": "markdown",
   "metadata": {},
   "source": [
    "Fundamental tasks that appear frequently across various NLP projects:\n",
    "\n",
    "i. **Language Modeling**\n",
    "\n",
    "\n",
    "- predicting what the next word in a sentence will be based on history of previous words\n",
    "- Goal -> to learn probability of a sequence of words appearing in a given language\n",
    "- Uses -> speech recognition, optical character recognition, handwriting recognition, machine translation & spelling correction\n",
    "\n",
    "\n",
    "\n",
    "ii. **Text Classification**\n",
    "\n",
    "\n",
    "- task of bucketing the text into a known set of categories based on its content\n",
    "- most popular task in NLP\n",
    "- Uses -> email spam identification, machine translation & spelling correction"
   ]
  },
  {
   "cell_type": "markdown",
   "metadata": {},
   "source": [
    "iii. **Information Extraction**\n",
    "\n",
    "\n",
    "- task of extracting relevant information from text\n",
    "- Uses -> calendar event extraction from emails, extracting names of people mentioned in a social media post, etc.\n",
    "\n",
    "\n",
    "iv. **Information Retrieval**\n",
    "\n",
    "\n",
    "- task of finding documents relevant to a user query from a large collection, e.g: Google search"
   ]
  },
  {
   "cell_type": "markdown",
   "metadata": {},
   "source": [
    "v. **Conversational Agent**\n",
    "\n",
    "\n",
    "- task of building dialogue systems that can converse in human languages, e.g: Alexa, Siri, etc.\n",
    "\n",
    "\n",
    "vi. **Text Summarization**\n",
    "\n",
    "\n",
    "- task of creating short summaries of longer documents while retaining core content and preserving overall meaning of text"
   ]
  },
  {
   "cell_type": "markdown",
   "metadata": {},
   "source": [
    "vii. **Question Answering**\n",
    "\n",
    "\n",
    "- task of building a system that can automatically answer questions posed in natural language\n",
    "\n",
    "\n",
    "viii. **Machine Translation**\n",
    "\n",
    "\n",
    "- task of converting a piece of text from one language to another, e.g: Google Translate\n",
    "\n",
    "\n",
    "\n",
    "ix. **Topic Modeling**\n",
    "\n",
    "\n",
    "- task of uncovering the topical structure of a large collection of documents\n",
    "- a common text mining tool used in domains like literature, bioinformatics, etc."
   ]
  },
  {
   "cell_type": "markdown",
   "metadata": {},
   "source": [
    "# Language from NLP Perspective"
   ]
  },
  {
   "cell_type": "markdown",
   "metadata": {},
   "source": [
    "- **Language** is a structured system of communication that involves complex combinations of its constituent components like charcters, words, sentences, etc.\n",
    "\n",
    "\n",
    "\n",
    "- **Linguistics** is the systematic study of language.\n",
    "\n",
    "\n",
    "\n",
    "- To study NLP, it is important to understand some concepts of linguistics.\n",
    "\n",
    "\n",
    "\n",
    "- Human language can be thought of as composed of four major building blocks:\n",
    "\n",
    "\n",
    ">   1. **Context** (meaning) : Applications -> Summarization, Topic Modeling, Sentiment Analysis \n",
    ">   2. **Syntax** (phrases & sentences) : Applications -> Parsing, Entity Extraction, Relation Extraction\n",
    ">   3. **Morphemes & Lexemes** (words) : Applications -> Tokenization, Word Embeddings, POS Tagging\n",
    ">   4. **Phonemes** (speech & sounds) : Applications -> Speech to text, Speaker Identification, Text to Speech"
   ]
  },
  {
   "cell_type": "markdown",
   "metadata": {},
   "source": [
    "### PHONEMES"
   ]
  },
  {
   "cell_type": "markdown",
   "metadata": {},
   "source": [
    "- **Phonemes** are the smallest units of sound in a language\n",
    "- they don't have any meaning of themselves\n",
    "- they can induce meaning when uttered in combination with other phonemes\n",
    "- Standard English has 44 phonemes (single letters / combination of letters)"
   ]
  },
  {
   "cell_type": "markdown",
   "metadata": {},
   "source": [
    "Examples:\n",
    "- **Consonant phonemes** -> /b/ - bat, /s/-sun, /k/-cat, /sh/-shop, /p/-pen, /ng/-ring\n",
    "- **Vowel phonemes** -> /a/-ant, /oi/-coin, /e/-egg, /ear/-dear, /oa/-boat, /ow/-cow"
   ]
  },
  {
   "cell_type": "markdown",
   "metadata": {},
   "source": [
    "### MORPHEMES & LEXEMES"
   ]
  },
  {
   "cell_type": "markdown",
   "metadata": {},
   "source": [
    "- A **Morpheme** is the smallest unit of language that has a meaning\n",
    "- It is formed by a combination of phonemes.\n",
    "- Not all morphemes are words.\n",
    "- All prefixes and suffixes are morphemes, e.g: in word '`multimedia`, `multi-` is a morpheme"
   ]
  },
  {
   "cell_type": "markdown",
   "metadata": {},
   "source": [
    "Examples:  \n",
    "> unbreakable => un + break + able  \n",
    "> cats => cat + s  \n",
    "  (*these morphemes are just constituents of full words*)\n",
    "  \n",
    "> tumbling => tumble + ing  \n",
    "> unreliability => un + rely + able + ity  \n",
    "(*there is some variation when words are broken into morphemes*)"
   ]
  },
  {
   "cell_type": "markdown",
   "metadata": {},
   "source": [
    "- **Lexemes** are strutural variations of morphemes related to one another by meaning, e.g: '`run` and `running` belong to same lexeme form\n",
    "\n",
    "\n",
    "- **Morphological Analysis** is a foundational block of many NLP tasks such as tokenization, stemming, learning word embedings & POS tagging.\n",
    "- It analyses the structure of word by studying its morphemes and lexemes."
   ]
  },
  {
   "cell_type": "markdown",
   "metadata": {},
   "source": [
    "### SYNTAX"
   ]
  },
  {
   "cell_type": "markdown",
   "metadata": {},
   "source": [
    "- **Syntax** is a set of rules to construct grammatically correct sentences out of words and phrases in a language.\n",
    "- In linguistics, there are many ways to represent syntactic structure.\n",
    "- A common example => Parse Tree"
   ]
  },
  {
   "cell_type": "markdown",
   "metadata": {},
   "source": [
    "Here,  \n",
    "**N** = Noun  \n",
    "**V** = Verb  \n",
    "**P** = Preposition  \n",
    "**NP** = Noun Phrase  \n",
    "**VP** = Verb Phrase  "
   ]
  },
  {
   "cell_type": "markdown",
   "metadata": {},
   "source": [
    "- A **Parse Tree** has a hierarchical structure of language => words at the lowest level followed by Parts-of-Speech tags followed by phrases, and ending with sentence at the highest level\n",
    "- **Parsing** is the NLP task that constrcuts such trees automatically.\n",
    "- On this knowledge of parsing, other NLP tasks can be buils => such as Entity extraction and Relation extraction (Ch-5)"
   ]
  },
  {
   "cell_type": "markdown",
   "metadata": {},
   "source": [
    "### CONTEXT"
   ]
  },
  {
   "cell_type": "markdown",
   "metadata": {},
   "source": [
    "- **Context** is how various parts in a language come together to convey a particular meaning.\n",
    "- It includes:\n",
    "> - long-term references\n",
    "> - word knowledge\n",
    "> - common sense\n",
    "> - literal meaning of words and phrases\n",
    "- Meaning of a sentence can change based on context\n",
    "- Context can be of two types based on :\n",
    "\n",
    "> 1. Semantics: direct meaning of the words and sentences without external context\n",
    "> 2. Pragmatics: adds world knowledge & external context of the conversation to enable us to infer implied meaning"
   ]
  },
  {
   "cell_type": "markdown",
   "metadata": {},
   "source": [
    "# Why is NLP Challenging?"
   ]
  },
  {
   "cell_type": "markdown",
   "metadata": {},
   "source": [
    "There are two characteristics of human language that make NLP a demanding area to work in:-\n",
    "- Ambiguity\n",
    "- Creativity"
   ]
  },
  {
   "cell_type": "markdown",
   "metadata": {},
   "source": [
    "### AMBIGUITY"
   ]
  },
  {
   "cell_type": "markdown",
   "metadata": {},
   "source": [
    "\n",
    "- **Ambiguity** means uncertainty of meaning\n",
    "- e.g: \"I made her duck\"  \n",
    "\n",
    "> 1st possible meaning:- I cooked a duck for her.  \n",
    "> 2nd possible meaning:- I made her bend down to avoid an object.\n",
    "\n",
    "- Which of the above two meaning applies depends on the context in which sentence appears.\n",
    "\n",
    "> Possible context of 1st:- story about a mother and a child.  \n",
    "> Possible context of 2nd:- a book about sports\n",
    "\n",
    "- Ambiguity increases even more in case of figurative language, i.e. idioms\n",
    "\n",
    "- Examples of ambiguity in language\n",
    "\n",
    "> The man couldn't lift his son because he was so weak => ***Who was weak?***  \n",
    "> Joan made sure to thank Susan for all the help she had given => ***Who had given help?***  \n",
    "> John promised Bill to leave, so an hour later he left => ***Who left an hour later?***\n",
    "\n",
    "- The above examples are easily disambiguated by a human but are not solvable using NLP techniques."
   ]
  },
  {
   "cell_type": "markdown",
   "metadata": {},
   "source": [
    "### COMMON KNOWLEDGE"
   ]
  },
  {
   "cell_type": "markdown",
   "metadata": {},
   "source": [
    "- It is the set of all facts that most humans are aware of.\n",
    "\n",
    "\n",
    "- e.g: \"`Man bit dog`\" & \"`Dog bit man`\"\n",
    "\n",
    "\n",
    "- We know that the 1st is unlikely to happen and the 2nd is very possible. This common knowledge was not mentioned in eaither of the two sentences.\n",
    "\n",
    "\n",
    "- The computer would find it very difficult to differentiate between the two sentences as it lacks common knowledge.\n",
    "\n",
    "\n",
    "- One of the key challenges of NLP => \"***How to encode all the things that are common knowledge to humans in a computational model.***\""
   ]
  },
  {
   "cell_type": "markdown",
   "metadata": {},
   "source": [
    "### CREATIVITY"
   ]
  },
  {
   "cell_type": "markdown",
   "metadata": {},
   "source": [
    "- Language is not just rule driven => it also has a creativity aspec to it.\n",
    "\n",
    "\n",
    "\n",
    "- Various styles, dialects, genres, variations used in language, poems, etc.\n",
    "\n",
    "\n",
    "\n",
    "- Making machines understand creativity is a hard problem not just in NLP, but AI in general."
   ]
  },
  {
   "cell_type": "markdown",
   "metadata": {},
   "source": [
    "### DIVERSITY ACROSS LANGUAGES"
   ]
  },
  {
   "cell_type": "markdown",
   "metadata": {},
   "source": [
    "- Porting an NLP solution from one language to another is hard.\n",
    "\n",
    "\n",
    "- A solution that works for one language might not work at all for another language.\n",
    "\n",
    "\n",
    "- Two possible solutions:\n",
    "\n",
    "> 1. build a soluion that is language agnostic => this is conceptually very hard\n",
    "> 2. build separate solutions for each language => laborious and time intensive"
   ]
  },
  {
   "cell_type": "markdown",
   "metadata": {},
   "source": [
    "#### All above issues make NLP a challenging, yet rewarding domain to work in."
   ]
  },
  {
   "cell_type": "markdown",
   "metadata": {},
   "source": [
    "# Machine Learning, Deep Learning & NLP: An Overview"
   ]
  },
  {
   "cell_type": "markdown",
   "metadata": {},
   "source": [
    "- **Artificial Intelligence(AI)** is a branch of computer science that aims to build systems that can perform tasks that require human intelligence.\n",
    "\n",
    "\n",
    "- **Machine Learning (ML)** is a branch of AI that deals with the development of algorithms that can learn to perform tasks automatically based on large number of examples, without requiring handcrafter rules.\n",
    "\n",
    "\n",
    "- **Deep Learning (DL)** is a branh of ML that is based on artificial neural network architectures.\n",
    "\n",
    "\n",
    "- ML, DL & NLP are all subfields within AI.\n",
    "\n",
    "\n",
    "- Early NLP applications were based on rules and heuristics.\n",
    "\n",
    "- In past few decades, NLP application development has been hevily influenced by methods from ML.\n",
    "\n",
    "- More recently, DL has also been frequently used to build NLP applications."
   ]
  },
  {
   "cell_type": "markdown",
   "metadata": {},
   "source": [
    "### MACHINE LEARNING (ML)"
   ]
  },
  {
   "cell_type": "markdown",
   "metadata": {},
   "source": [
    "- ***Goal of ML*** => to learn to perform tasks based on examples (`training data`) without explicit instructions => this is done by creating numeric representation (features) of training data and using this representation to learn the patterns in those examples.\n",
    "\n",
    "\n",
    "- ML algorithms can be divided into three categories:-\n",
    "\n",
    "\n",
    "> 1. **Supervised Learning**: To learn the mapping function from input to output given a large number of examples in the form of input-output pairs (`training data`), e.g: spam e-mail classification\n",
    "> 2. **Unsupervised Learning**: A set of ML methods that aim to find hidden patterns in given input data without any reference output, e.g: Topic Modeling  \n",
    "> [**Semi-supervised Learning**: These techniques use both - a small labeled dataset and a large unlabeled dataset - to learn the task at hand.]\n",
    "> 3. **Reinforcement Learning**: It deals with methods to learn tasks via trial and error. It is characterized by absence of either labeled or unlabeled data in large quantities."
   ]
  },
  {
   "cell_type": "markdown",
   "metadata": {},
   "source": [
    "# Approaches to NLP"
   ]
  },
  {
   "cell_type": "markdown",
   "metadata": {},
   "source": [
    "- Different approaches used to solve NLP fall in three categories:-\n",
    "> 1. Heuristics\n",
    "> 2. Machine Learning\n",
    "> 3. Deep Learning"
   ]
  },
  {
   "cell_type": "markdown",
   "metadata": {},
   "source": [
    "### 1. Heuristics-based NLP"
   ]
  },
  {
   "cell_type": "markdown",
   "metadata": {},
   "source": []
  },
  {
   "cell_type": "markdown",
   "metadata": {},
   "source": []
  },
  {
   "cell_type": "markdown",
   "metadata": {},
   "source": []
  },
  {
   "cell_type": "markdown",
   "metadata": {},
   "source": []
  },
  {
   "cell_type": "markdown",
   "metadata": {},
   "source": []
  },
  {
   "cell_type": "markdown",
   "metadata": {},
   "source": []
  },
  {
   "cell_type": "markdown",
   "metadata": {},
   "source": []
  },
  {
   "cell_type": "markdown",
   "metadata": {},
   "source": []
  },
  {
   "cell_type": "markdown",
   "metadata": {},
   "source": []
  },
  {
   "cell_type": "markdown",
   "metadata": {},
   "source": []
  },
  {
   "cell_type": "markdown",
   "metadata": {},
   "source": []
  },
  {
   "cell_type": "markdown",
   "metadata": {},
   "source": []
  },
  {
   "cell_type": "markdown",
   "metadata": {},
   "source": []
  }
 ],
 "metadata": {
  "kernelspec": {
   "display_name": "Python 3",
   "language": "python",
   "name": "python3"
  },
  "language_info": {
   "codemirror_mode": {
    "name": "ipython",
    "version": 3
   },
   "file_extension": ".py",
   "mimetype": "text/x-python",
   "name": "python",
   "nbconvert_exporter": "python",
   "pygments_lexer": "ipython3",
   "version": "3.8.3"
  }
 },
 "nbformat": 4,
 "nbformat_minor": 4
}
